{
 "cells": [
  {
   "cell_type": "code",
   "execution_count": 20,
   "metadata": {},
   "outputs": [],
   "source": [
    "from bigml.api import BigML\n",
    "from data_formatting import data_formatting\n",
    "\n",
    "api = BigML(project='project/5d94a426eba31d46690001cd')"
   ]
  },
  {
   "cell_type": "code",
   "execution_count": 27,
   "metadata": {
    "scrolled": true
   },
   "outputs": [],
   "source": [
    "def predict_model(model, data, name=\"prediction_name\"):\n",
    "    dataset = api.get_dataset(model['object']['dataset'])\n",
    "    field_names = [v['name'] for v in dataset['object']['fields'].values()]\n",
    "    prediction_data = {key:None for key in field_names}\n",
    "    prediction_data.update(data)\n",
    "    prediction_data = data_formatting(prediction_data)\n",
    "    prediction = api.create_prediction(model, prediction_data, {\"name\": name})\n",
    "\n",
    "    api.pprint(prediction)"
   ]
  },
  {
   "cell_type": "code",
   "execution_count": 28,
   "metadata": {},
   "outputs": [],
   "source": [
    "raw_data = {\n",
    "    \"RevolvingUtilizationOfUnsecuredLines\": 0.01703559,\n",
    "    \"NumberOfDependents\": 1,\n",
    "    \"DebtRatio\": 0,\n",
    "    \"age\": 42,\n",
    "    \"NumberOfOpenCreditLinesAndLoans\": 6,\n",
    "    \"NumberRealEstateLoansOrLines\": 1,\n",
    "    \"NumberOfTime30-59DaysPastDueNotWorse\": 1,\n",
    "    \"NumberOfTime60-89DaysPastDueNotWorse\": 0,\n",
    "    \"NumberOfTimes90DaysLate\": 0\n",
    "}\n",
    "\n",
    "ensemble = api.get_ensemble(\"ensemble/5db2c37de47684746800a43b\")"
   ]
  },
  {
   "cell_type": "code",
   "execution_count": 29,
   "metadata": {},
   "outputs": [
    {
     "name": "stdout",
     "output_type": "stream",
     "text": [
      "SeriousDlqin2yrs for {'BalancePerPerson': 0.0, 'DebtAbsolute': 0, 'DebtRatio': 0, 'Id': None, 'MonthlyBalance': 0, 'MonthlyIncome': 0, 'NumberOfDependents': 1, 'NumberOfOpenCreditLinesAndLoans': 6, 'NumberOfTime30-59DaysPastDueNotWorse': 1, 'NumberOfTime60-89DaysPastDueNotWorse': 0, 'NumberOfTimes90DaysLate': 0, 'NumberRealEstateLoansOrLines': 1, 'RevolvingUtilizationOfUnsecuredLines': 0.01703559, 'SeriousDlqin2yrs': None, 'age': 42} is 0\n"
     ]
    }
   ],
   "source": [
    "predict_model(model=ensemble, data=raw_data, name=\"Single prediction\")"
   ]
  },
  {
   "cell_type": "code",
   "execution_count": null,
   "metadata": {},
   "outputs": [],
   "source": []
  }
 ],
 "metadata": {
  "kernelspec": {
   "display_name": "Python 3",
   "language": "python",
   "name": "python3"
  },
  "language_info": {
   "codemirror_mode": {
    "name": "ipython",
    "version": 3
   },
   "file_extension": ".py",
   "mimetype": "text/x-python",
   "name": "python",
   "nbconvert_exporter": "python",
   "pygments_lexer": "ipython3",
   "version": "3.7.4"
  }
 },
 "nbformat": 4,
 "nbformat_minor": 2
}

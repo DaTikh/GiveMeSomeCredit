{
 "cells": [
  {
   "cell_type": "code",
   "execution_count": 1,
   "metadata": {},
   "outputs": [],
   "source": [
    "import pandas"
   ]
  },
  {
   "cell_type": "code",
   "execution_count": 2,
   "metadata": {},
   "outputs": [],
   "source": [
    "prediction = pandas.read_csv(\"./ensemble_train_prediction.csv\")"
   ]
  },
  {
   "cell_type": "code",
   "execution_count": 15,
   "metadata": {},
   "outputs": [
    {
     "data": {
      "text/html": [
       "<div>\n",
       "<style scoped>\n",
       "    .dataframe tbody tr th:only-of-type {\n",
       "        vertical-align: middle;\n",
       "    }\n",
       "\n",
       "    .dataframe tbody tr th {\n",
       "        vertical-align: top;\n",
       "    }\n",
       "\n",
       "    .dataframe thead th {\n",
       "        text-align: right;\n",
       "    }\n",
       "</style>\n",
       "<table border=\"1\" class=\"dataframe\">\n",
       "  <thead>\n",
       "    <tr style=\"text-align: right;\">\n",
       "      <th></th>\n",
       "      <th>Id</th>\n",
       "      <th>RevolvingUtilizationOfUnsecuredLines</th>\n",
       "      <th>age</th>\n",
       "      <th>NumberOfTime30-59DaysPastDueNotWorse</th>\n",
       "      <th>DebtRatio</th>\n",
       "      <th>MonthlyIncome</th>\n",
       "      <th>NumberOfOpenCreditLinesAndLoans</th>\n",
       "      <th>NumberOfTimes90DaysLate</th>\n",
       "      <th>NumberRealEstateLoansOrLines</th>\n",
       "      <th>NumberOfTime60-89DaysPastDueNotWorse</th>\n",
       "      <th>NumberOfDependents</th>\n",
       "      <th>SeriousDlqin2yrs</th>\n",
       "      <th>DebtAbsolute</th>\n",
       "      <th>MonthlyBalance</th>\n",
       "      <th>BalancePerPerson</th>\n",
       "      <th>Prediction</th>\n",
       "      <th>probability</th>\n",
       "      <th>0 probability</th>\n",
       "      <th>1 probability</th>\n",
       "    </tr>\n",
       "  </thead>\n",
       "  <tbody>\n",
       "    <tr>\n",
       "      <th>count</th>\n",
       "      <td>30000.000000</td>\n",
       "      <td>30000.000000</td>\n",
       "      <td>30000.000000</td>\n",
       "      <td>30000.000000</td>\n",
       "      <td>30000.000000</td>\n",
       "      <td>3.000000e+04</td>\n",
       "      <td>30000.000000</td>\n",
       "      <td>30000.000000</td>\n",
       "      <td>30000.000000</td>\n",
       "      <td>30000.000000</td>\n",
       "      <td>29237.000000</td>\n",
       "      <td>30000.000000</td>\n",
       "      <td>30000.000000</td>\n",
       "      <td>3.000000e+04</td>\n",
       "      <td>2.923700e+04</td>\n",
       "      <td>30000.000000</td>\n",
       "      <td>30000.000000</td>\n",
       "      <td>30000.000000</td>\n",
       "      <td>30000.000000</td>\n",
       "    </tr>\n",
       "    <tr>\n",
       "      <th>mean</th>\n",
       "      <td>75184.962033</td>\n",
       "      <td>5.221595</td>\n",
       "      <td>52.171300</td>\n",
       "      <td>0.409767</td>\n",
       "      <td>349.158550</td>\n",
       "      <td>5.362946e+03</td>\n",
       "      <td>8.451967</td>\n",
       "      <td>0.264767</td>\n",
       "      <td>1.015267</td>\n",
       "      <td>0.236267</td>\n",
       "      <td>0.757157</td>\n",
       "      <td>0.068567</td>\n",
       "      <td>1978.177339</td>\n",
       "      <td>3.384769e+03</td>\n",
       "      <td>2.382365e+03</td>\n",
       "      <td>0.019767</td>\n",
       "      <td>0.936945</td>\n",
       "      <td>0.933041</td>\n",
       "      <td>0.066959</td>\n",
       "    </tr>\n",
       "    <tr>\n",
       "      <th>std</th>\n",
       "      <td>43286.522991</td>\n",
       "      <td>219.424090</td>\n",
       "      <td>14.795051</td>\n",
       "      <td>4.122478</td>\n",
       "      <td>2526.704877</td>\n",
       "      <td>1.347350e+04</td>\n",
       "      <td>5.157297</td>\n",
       "      <td>4.105008</td>\n",
       "      <td>1.129399</td>\n",
       "      <td>4.085576</td>\n",
       "      <td>1.111296</td>\n",
       "      <td>0.252720</td>\n",
       "      <td>3050.460551</td>\n",
       "      <td>1.349694e+04</td>\n",
       "      <td>1.260885e+04</td>\n",
       "      <td>0.139200</td>\n",
       "      <td>0.097992</td>\n",
       "      <td>0.114013</td>\n",
       "      <td>0.114013</td>\n",
       "    </tr>\n",
       "    <tr>\n",
       "      <th>min</th>\n",
       "      <td>1.000000</td>\n",
       "      <td>0.000000</td>\n",
       "      <td>21.000000</td>\n",
       "      <td>0.000000</td>\n",
       "      <td>0.000000</td>\n",
       "      <td>0.000000e+00</td>\n",
       "      <td>0.000000</td>\n",
       "      <td>0.000000</td>\n",
       "      <td>0.000000</td>\n",
       "      <td>0.000000</td>\n",
       "      <td>0.000000</td>\n",
       "      <td>0.000000</td>\n",
       "      <td>0.000000</td>\n",
       "      <td>-3.264420e+05</td>\n",
       "      <td>-3.264420e+05</td>\n",
       "      <td>0.000000</td>\n",
       "      <td>0.500100</td>\n",
       "      <td>0.261400</td>\n",
       "      <td>0.001920</td>\n",
       "    </tr>\n",
       "    <tr>\n",
       "      <th>25%</th>\n",
       "      <td>37689.000000</td>\n",
       "      <td>0.029766</td>\n",
       "      <td>41.000000</td>\n",
       "      <td>0.000000</td>\n",
       "      <td>0.170918</td>\n",
       "      <td>1.600000e+03</td>\n",
       "      <td>5.000000</td>\n",
       "      <td>0.000000</td>\n",
       "      <td>0.000000</td>\n",
       "      <td>0.000000</td>\n",
       "      <td>0.000000</td>\n",
       "      <td>0.000000</td>\n",
       "      <td>521.000000</td>\n",
       "      <td>2.014810e+02</td>\n",
       "      <td>3.293302e+02</td>\n",
       "      <td>0.000000</td>\n",
       "      <td>0.932330</td>\n",
       "      <td>0.932330</td>\n",
       "      <td>0.008200</td>\n",
       "    </tr>\n",
       "    <tr>\n",
       "      <th>50%</th>\n",
       "      <td>74657.500000</td>\n",
       "      <td>0.155847</td>\n",
       "      <td>52.000000</td>\n",
       "      <td>0.000000</td>\n",
       "      <td>0.362473</td>\n",
       "      <td>4.381500e+03</td>\n",
       "      <td>8.000000</td>\n",
       "      <td>0.000000</td>\n",
       "      <td>1.000000</td>\n",
       "      <td>0.000000</td>\n",
       "      <td>0.000000</td>\n",
       "      <td>0.000000</td>\n",
       "      <td>1524.813544</td>\n",
       "      <td>2.760143e+03</td>\n",
       "      <td>1.699424e+03</td>\n",
       "      <td>0.000000</td>\n",
       "      <td>0.978710</td>\n",
       "      <td>0.978710</td>\n",
       "      <td>0.021290</td>\n",
       "    </tr>\n",
       "    <tr>\n",
       "      <th>75%</th>\n",
       "      <td>112785.250000</td>\n",
       "      <td>0.565905</td>\n",
       "      <td>63.000000</td>\n",
       "      <td>0.000000</td>\n",
       "      <td>0.838320</td>\n",
       "      <td>7.416000e+03</td>\n",
       "      <td>11.000000</td>\n",
       "      <td>0.000000</td>\n",
       "      <td>2.000000</td>\n",
       "      <td>0.000000</td>\n",
       "      <td>1.000000</td>\n",
       "      <td>0.000000</td>\n",
       "      <td>2808.093979</td>\n",
       "      <td>5.181260e+03</td>\n",
       "      <td>3.532003e+03</td>\n",
       "      <td>0.000000</td>\n",
       "      <td>0.991800</td>\n",
       "      <td>0.991800</td>\n",
       "      <td>0.067670</td>\n",
       "    </tr>\n",
       "    <tr>\n",
       "      <th>max</th>\n",
       "      <td>150000.000000</td>\n",
       "      <td>29110.000000</td>\n",
       "      <td>103.000000</td>\n",
       "      <td>98.000000</td>\n",
       "      <td>326442.000000</td>\n",
       "      <td>1.794060e+06</td>\n",
       "      <td>57.000000</td>\n",
       "      <td>98.000000</td>\n",
       "      <td>26.000000</td>\n",
       "      <td>98.000000</td>\n",
       "      <td>10.000000</td>\n",
       "      <td>1.000000</td>\n",
       "      <td>326442.000000</td>\n",
       "      <td>1.789080e+06</td>\n",
       "      <td>1.789080e+06</td>\n",
       "      <td>1.000000</td>\n",
       "      <td>0.998080</td>\n",
       "      <td>0.998080</td>\n",
       "      <td>0.738600</td>\n",
       "    </tr>\n",
       "  </tbody>\n",
       "</table>\n",
       "</div>"
      ],
      "text/plain": [
       "                  Id  RevolvingUtilizationOfUnsecuredLines           age  \\\n",
       "count   30000.000000                          30000.000000  30000.000000   \n",
       "mean    75184.962033                              5.221595     52.171300   \n",
       "std     43286.522991                            219.424090     14.795051   \n",
       "min         1.000000                              0.000000     21.000000   \n",
       "25%     37689.000000                              0.029766     41.000000   \n",
       "50%     74657.500000                              0.155847     52.000000   \n",
       "75%    112785.250000                              0.565905     63.000000   \n",
       "max    150000.000000                          29110.000000    103.000000   \n",
       "\n",
       "       NumberOfTime30-59DaysPastDueNotWorse      DebtRatio  MonthlyIncome  \\\n",
       "count                          30000.000000   30000.000000   3.000000e+04   \n",
       "mean                               0.409767     349.158550   5.362946e+03   \n",
       "std                                4.122478    2526.704877   1.347350e+04   \n",
       "min                                0.000000       0.000000   0.000000e+00   \n",
       "25%                                0.000000       0.170918   1.600000e+03   \n",
       "50%                                0.000000       0.362473   4.381500e+03   \n",
       "75%                                0.000000       0.838320   7.416000e+03   \n",
       "max                               98.000000  326442.000000   1.794060e+06   \n",
       "\n",
       "       NumberOfOpenCreditLinesAndLoans  NumberOfTimes90DaysLate  \\\n",
       "count                     30000.000000             30000.000000   \n",
       "mean                          8.451967                 0.264767   \n",
       "std                           5.157297                 4.105008   \n",
       "min                           0.000000                 0.000000   \n",
       "25%                           5.000000                 0.000000   \n",
       "50%                           8.000000                 0.000000   \n",
       "75%                          11.000000                 0.000000   \n",
       "max                          57.000000                98.000000   \n",
       "\n",
       "       NumberRealEstateLoansOrLines  NumberOfTime60-89DaysPastDueNotWorse  \\\n",
       "count                  30000.000000                          30000.000000   \n",
       "mean                       1.015267                              0.236267   \n",
       "std                        1.129399                              4.085576   \n",
       "min                        0.000000                              0.000000   \n",
       "25%                        0.000000                              0.000000   \n",
       "50%                        1.000000                              0.000000   \n",
       "75%                        2.000000                              0.000000   \n",
       "max                       26.000000                             98.000000   \n",
       "\n",
       "       NumberOfDependents  SeriousDlqin2yrs   DebtAbsolute  MonthlyBalance  \\\n",
       "count        29237.000000      30000.000000   30000.000000    3.000000e+04   \n",
       "mean             0.757157          0.068567    1978.177339    3.384769e+03   \n",
       "std              1.111296          0.252720    3050.460551    1.349694e+04   \n",
       "min              0.000000          0.000000       0.000000   -3.264420e+05   \n",
       "25%              0.000000          0.000000     521.000000    2.014810e+02   \n",
       "50%              0.000000          0.000000    1524.813544    2.760143e+03   \n",
       "75%              1.000000          0.000000    2808.093979    5.181260e+03   \n",
       "max             10.000000          1.000000  326442.000000    1.789080e+06   \n",
       "\n",
       "       BalancePerPerson    Prediction   probability  0 probability  \\\n",
       "count      2.923700e+04  30000.000000  30000.000000   30000.000000   \n",
       "mean       2.382365e+03      0.019767      0.936945       0.933041   \n",
       "std        1.260885e+04      0.139200      0.097992       0.114013   \n",
       "min       -3.264420e+05      0.000000      0.500100       0.261400   \n",
       "25%        3.293302e+02      0.000000      0.932330       0.932330   \n",
       "50%        1.699424e+03      0.000000      0.978710       0.978710   \n",
       "75%        3.532003e+03      0.000000      0.991800       0.991800   \n",
       "max        1.789080e+06      1.000000      0.998080       0.998080   \n",
       "\n",
       "       1 probability  \n",
       "count   30000.000000  \n",
       "mean        0.066959  \n",
       "std         0.114013  \n",
       "min         0.001920  \n",
       "25%         0.008200  \n",
       "50%         0.021290  \n",
       "75%         0.067670  \n",
       "max         0.738600  "
      ]
     },
     "execution_count": 15,
     "metadata": {},
     "output_type": "execute_result"
    }
   ],
   "source": [
    "prediction.describe()"
   ]
  },
  {
   "cell_type": "markdown",
   "metadata": {},
   "source": [
    "We create the confusion matrix logic and the method to get the result."
   ]
  },
  {
   "cell_type": "code",
   "execution_count": 3,
   "metadata": {},
   "outputs": [],
   "source": [
    "def confusion_matrix(row):\n",
    "    x = \"TN\"\n",
    "    if row['SeriousDlqin2yrs'] == 1:\n",
    "        if row['Prediction'] == 1:\n",
    "            x = \"TP\"\n",
    "        else:\n",
    "            x = \"FN\"\n",
    "    else:\n",
    "        if row['Prediction'] == 1:\n",
    "            x = \"FP\"\n",
    "    return x"
   ]
  },
  {
   "cell_type": "code",
   "execution_count": 4,
   "metadata": {},
   "outputs": [],
   "source": [
    "def get_confusion_matrix(): \n",
    "    prediction['Error'] = prediction.apply(confusion_matrix, axis=1)\n",
    "    return prediction['Error'].value_counts()"
   ]
  },
  {
   "cell_type": "code",
   "execution_count": 5,
   "metadata": {},
   "outputs": [
    {
     "name": "stdout",
     "output_type": "stream",
     "text": [
      "TN    27708\n",
      "FN     1699\n",
      "TP      358\n",
      "FP      235\n",
      "Name: Error, dtype: int64\n"
     ]
    }
   ],
   "source": [
    "print(get_confusion_matrix())"
   ]
  },
  {
   "cell_type": "markdown",
   "metadata": {},
   "source": [
    "To get the **Accuracy** we add the **True Positives** and **True Negatives** and we divide them by **sample size/100**."
   ]
  },
  {
   "cell_type": "code",
   "execution_count": 6,
   "metadata": {},
   "outputs": [
    {
     "name": "stdout",
     "output_type": "stream",
     "text": [
      "93.55333333333333\n"
     ]
    }
   ],
   "source": [
    "final_confusion_matrix = get_confusion_matrix()\n",
    "accuracy = (final_confusion_matrix['TP'] + final_confusion_matrix['TN'])/300\n",
    "print(accuracy)"
   ]
  },
  {
   "cell_type": "markdown",
   "metadata": {},
   "source": [
    "We can have a look at the **100 largest errors**, with the **highest probability**."
   ]
  },
  {
   "cell_type": "code",
   "execution_count": 7,
   "metadata": {},
   "outputs": [],
   "source": [
    "filtered = prediction.loc[prediction['Error'].isin([\"FN\", \"FP\"])]\n",
    "\n",
    "filtered = (filtered.nlargest(100, 'probability'))"
   ]
  },
  {
   "cell_type": "markdown",
   "metadata": {},
   "source": [
    "From the given cost matrix we evaluate the best threshold to maximize our cash gain."
   ]
  },
  {
   "cell_type": "code",
   "execution_count": 8,
   "metadata": {},
   "outputs": [],
   "source": [
    "def cost_threshold(threshold):\n",
    "    prediction_threshold = prediction['1 probability'] > threshold\n",
    "\n",
    "    P_pred = prediction_threshold\n",
    "    N_pred = ~prediction_threshold\n",
    "\n",
    "    P_real = (prediction['SeriousDlqin2yrs'] == 1)\n",
    "    N_real = (prediction['SeriousDlqin2yrs'] == 0)\n",
    "\n",
    "    TP = len(prediction.loc[P_pred & P_real])\n",
    "    TN = len(prediction.loc[N_pred & N_real])\n",
    "    FP = len(prediction.loc[P_pred & N_real])\n",
    "    FN = len(prediction.loc[N_pred & P_real])\n",
    "\n",
    "    TP_cost = 0\n",
    "    FN_cost = -2500\n",
    "    FP_cost = -500\n",
    "    TN_cost = 500\n",
    "\n",
    "    cost = TP * TP_cost\n",
    "    cost += TN * TN_cost\n",
    "    cost += FP * FP_cost\n",
    "    cost += FN * FN_cost\n",
    "\n",
    "    return cost"
   ]
  },
  {
   "cell_type": "markdown",
   "metadata": {},
   "source": [
    "With the **matplotlib** library we draw a plot to get the maximum cash gain value with it's matching threshold."
   ]
  },
  {
   "cell_type": "code",
   "execution_count": 9,
   "metadata": {},
   "outputs": [
    {
     "name": "stdout",
     "output_type": "stream",
     "text": [
      "Le gain maximum est 9970500 et il est obtenu avec un seuil de 0.09433333333333334\n"
     ]
    }
   ],
   "source": [
    "import matplotlib.pyplot as plt\n",
    "table = [cost_threshold(n/1000) for n in range(0,1000)]\n",
    "plt.plot(table)\n",
    "\n",
    "max_val = max(table)\n",
    "max_threshold = table.index(max_val)/3000\n",
    "print(f'Le gain maximum est {max_val} et il est obtenu avec un seuil de {max_threshold}')"
   ]
  },
  {
   "cell_type": "markdown",
   "metadata": {},
   "source": [
    "To get the **AUC** we compare the **TP** probability score to the **TN** probability score."
   ]
  },
  {
   "cell_type": "code",
   "execution_count": 17,
   "metadata": {},
   "outputs": [],
   "source": [
    "def auc_method():\n",
    "    auc_ratio = 0\n",
    "    auc_count = 0\n",
    "    auc_p_filter = prediction.loc[prediction['Error'].isin([\"TP\", \"FN\"])]\n",
    "    auc_n_filter = prediction.loc[prediction['Error'].isin([\"TN\", \"FP\"])]\n",
    "    \n",
    "    for p_value in auc_p_filter['1 probability']:\n",
    "        for n_value in auc_n_filter['1 probability']:\n",
    "            if p_value > n_value:\n",
    "                auc_ratio += 1\n",
    "            auc_count += 1\n",
    "\n",
    "    print(f\"Nombre de comparaisons : {auc_ratio}\")\n",
    "    return auc_ratio/auc_count"
   ]
  },
  {
   "cell_type": "code",
   "execution_count": 18,
   "metadata": {},
   "outputs": [
    {
     "name": "stdout",
     "output_type": "stream",
     "text": [
      "Nombre de comparaisons : 49267257\n",
      "0.8571386145812389\n"
     ]
    }
   ],
   "source": [
    "print(auc_method())"
   ]
  },
  {
   "cell_type": "code",
   "execution_count": null,
   "metadata": {},
   "outputs": [],
   "source": []
  }
 ],
 "metadata": {
  "kernelspec": {
   "display_name": "Python 3",
   "language": "python",
   "name": "python3"
  },
  "language_info": {
   "codemirror_mode": {
    "name": "ipython",
    "version": 3
   },
   "file_extension": ".py",
   "mimetype": "text/x-python",
   "name": "python",
   "nbconvert_exporter": "python",
   "pygments_lexer": "ipython3",
   "version": "3.7.4"
  }
 },
 "nbformat": 4,
 "nbformat_minor": 2
}

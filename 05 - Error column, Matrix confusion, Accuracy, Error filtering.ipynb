{
 "cells": [
  {
   "cell_type": "code",
   "execution_count": 1,
   "metadata": {},
   "outputs": [],
   "source": [
    "import pandas"
   ]
  },
  {
   "cell_type": "code",
   "execution_count": 2,
   "metadata": {},
   "outputs": [],
   "source": [
    "prediction_deepnet = pandas.read_csv(\"./deepnet_train_prediction.csv\")\n",
    "prediction_ensemble = pandas.read_csv(\"./ensemble_train_prediction.csv\")"
   ]
  },
  {
   "cell_type": "markdown",
   "metadata": {},
   "source": [
    "We create the confusion matrix logic and the method to get the result."
   ]
  },
  {
   "cell_type": "code",
   "execution_count": 3,
   "metadata": {},
   "outputs": [],
   "source": [
    "def confusion_matrix(row):\n",
    "    x = \"TN\"\n",
    "    if row['SeriousDlqin2yrs'] == 1:\n",
    "        if row['Prediction'] == 1:\n",
    "            x = \"TP\"\n",
    "        else:\n",
    "            x = \"FN\"\n",
    "    else:\n",
    "        if row['Prediction'] == 1:\n",
    "            x = \"FP\"\n",
    "    return x"
   ]
  },
  {
   "cell_type": "code",
   "execution_count": 4,
   "metadata": {},
   "outputs": [],
   "source": [
    "def get_confusion_matrix(dataframe): \n",
    "    dataframe['Error'] = dataframe.apply(confusion_matrix, axis=1)\n",
    "    return dataframe['Error'].value_counts()"
   ]
  },
  {
   "cell_type": "code",
   "execution_count": 5,
   "metadata": {},
   "outputs": [
    {
     "name": "stdout",
     "output_type": "stream",
     "text": [
      "Ensemble : TN    27708\n",
      "FN     1699\n",
      "TP      358\n",
      "FP      235\n",
      "Name: Error, dtype: int64\n",
      "Deepnet : TN    27255\n",
      "FN     1423\n",
      "FP      688\n",
      "TP      634\n",
      "Name: Error, dtype: int64\n"
     ]
    }
   ],
   "source": [
    "print(f\"Ensemble : {get_confusion_matrix(prediction_ensemble)}\")\n",
    "print(f\"Deepnet : {get_confusion_matrix(prediction_deepnet)}\")"
   ]
  },
  {
   "cell_type": "markdown",
   "metadata": {},
   "source": [
    "To get the **Accuracy** we add the **True Positives** and **True Negatives** and we divide them by **sample size/100**."
   ]
  },
  {
   "cell_type": "code",
   "execution_count": 6,
   "metadata": {},
   "outputs": [
    {
     "name": "stdout",
     "output_type": "stream",
     "text": [
      "Ensemble\n",
      "93.55333333333333\n",
      "Deepnet\n",
      "92.96333333333334\n"
     ]
    }
   ],
   "source": [
    "def get_accuracy(dataframe):\n",
    "    final_confusion_matrix = get_confusion_matrix(dataframe)\n",
    "    accuracy = (final_confusion_matrix['TP'] + final_confusion_matrix['TN'])/300\n",
    "    print(accuracy)\n",
    "\n",
    "print(\"Ensemble\")    \n",
    "get_accuracy(prediction_ensemble)\n",
    "print(\"Deepnet\")\n",
    "get_accuracy(prediction_deepnet)"
   ]
  },
  {
   "cell_type": "markdown",
   "metadata": {},
   "source": [
    "We can have a look at the **100 largest errors**, with the **highest probability**."
   ]
  },
  {
   "cell_type": "code",
   "execution_count": 7,
   "metadata": {},
   "outputs": [],
   "source": [
    "filtered = prediction_deepnet.loc[prediction_deepnet['Error'].isin([\"FN\", \"FP\"])]\n",
    "\n",
    "filtered = (filtered.nlargest(100, 'probability'))"
   ]
  },
  {
   "cell_type": "markdown",
   "metadata": {},
   "source": [
    "From the given cost matrix we evaluate the best threshold to maximize our cash gain."
   ]
  },
  {
   "cell_type": "code",
   "execution_count": 8,
   "metadata": {},
   "outputs": [],
   "source": [
    "def cost_threshold(dataframe, threshold):\n",
    "    prediction_threshold = dataframe['1 probability'] > threshold\n",
    "\n",
    "    P_pred = prediction_threshold\n",
    "    N_pred = ~prediction_threshold\n",
    "\n",
    "    P_real = (dataframe['SeriousDlqin2yrs'] == 1)\n",
    "    N_real = (dataframe['SeriousDlqin2yrs'] == 0)\n",
    "\n",
    "    TP = len(dataframe.loc[P_pred & P_real])\n",
    "    TN = len(dataframe.loc[N_pred & N_real])\n",
    "    FP = len(dataframe.loc[P_pred & N_real])\n",
    "    FN = len(dataframe.loc[N_pred & P_real])\n",
    "\n",
    "    TP_cost = 0\n",
    "    FN_cost = -2500\n",
    "    FP_cost = -500\n",
    "    TN_cost = 500\n",
    "\n",
    "    cost = TP * TP_cost\n",
    "    cost += TN * TN_cost\n",
    "    cost += FP * FP_cost\n",
    "    cost += FN * FN_cost\n",
    "\n",
    "    return cost"
   ]
  },
  {
   "cell_type": "markdown",
   "metadata": {},
   "source": [
    "With the **matplotlib** library we draw a plot to get the maximum cash gain value with it's matching threshold."
   ]
  },
  {
   "cell_type": "code",
   "execution_count": 9,
   "metadata": {},
   "outputs": [],
   "source": [
    "import matplotlib.pyplot as plt\n",
    "def get_max_threshold(dataframe):\n",
    "    table = [cost_threshold(dataframe, n/1000) for n in range(0,1000)]\n",
    "    plt.plot(table)\n",
    "    max_val = max(table)\n",
    "    max_threshold = table.index(max_val)/3000\n",
    "    print(f'Le gain maximum est {max_val} et il est obtenu avec un seuil de {max_threshold}')"
   ]
  },
  {
   "cell_type": "code",
   "execution_count": 10,
   "metadata": {},
   "outputs": [
    {
     "name": "stdout",
     "output_type": "stream",
     "text": [
      "Le gain maximum est 9970500 et il est obtenu avec un seuil de 0.09433333333333334\n",
      "Le gain maximum est 9824000 et il est obtenu avec un seuil de 0.14133333333333334\n"
     ]
    },
    {
     "data": {
      "image/png": "[encoded data removed]",
      "text/plain": [
       "<Figure size 432x288 with 1 Axes>"
      ]
     },
     "metadata": {
      "needs_background": "light"
     },
     "output_type": "display_data"
    }
   ],
   "source": [
    "get_max_threshold(prediction_ensemble)\n",
    "get_max_threshold(prediction_deepnet)"
   ]
  },
  {
   "cell_type": "markdown",
   "metadata": {},
   "source": [
    "To get the **AUC** we compare the **TP** probability score to the **TN** probability score."
   ]
  },
  {
   "cell_type": "code",
   "execution_count": 11,
   "metadata": {},
   "outputs": [],
   "source": [
    "def auc_method(dataframe):\n",
    "    auc_ratio = 0\n",
    "    auc_count = 0\n",
    "    auc_p_filter = dataframe.loc[dataframe['Error'].isin([\"TP\", \"FN\"])]\n",
    "    auc_n_filter = dataframe.loc[dataframe['Error'].isin([\"TN\", \"FP\"])]\n",
    "    \n",
    "    for p_value in auc_p_filter['1 probability']:\n",
    "        for n_value in auc_n_filter['1 probability']:\n",
    "            if p_value > n_value:\n",
    "                auc_ratio += 1\n",
    "            auc_count += 1\n",
    "\n",
    "    print(f\"Number of comparisons : {auc_ratio}\")\n",
    "    return auc_ratio/auc_count"
   ]
  },
  {
   "cell_type": "code",
   "execution_count": 12,
   "metadata": {},
   "outputs": [
    {
     "name": "stdout",
     "output_type": "stream",
     "text": [
      "Ensemble\n",
      "Number of comparisons : 49267257\n",
      "0.8571386145812389\n",
      "Deepnet\n",
      "Number of comparisons : 48522786\n",
      "0.8441865064186937\n"
     ]
    }
   ],
   "source": [
    "print(\"Ensemble\")\n",
    "print(auc_method(prediction_ensemble))\n",
    "print(\"Deepnet\")\n",
    "print(auc_method(prediction_deepnet))"
   ]
  },
  {
   "cell_type": "code",
   "execution_count": null,
   "metadata": {},
   "outputs": [],
   "source": []
  }
 ],
 "metadata": {
  "kernelspec": {
   "display_name": "Python 3",
   "language": "python",
   "name": "python3"
  },
  "language_info": {
   "codemirror_mode": {
    "name": "ipython",
    "version": 3
   },
   "file_extension": ".py",
   "mimetype": "text/x-python",
   "name": "python",
   "nbconvert_exporter": "python",
   "pygments_lexer": "ipython3",
   "version": "3.7.4"
  }
 },
 "nbformat": 4,
 "nbformat_minor": 2
}

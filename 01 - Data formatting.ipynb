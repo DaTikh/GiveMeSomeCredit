{
 "cells": [
  {
   "cell_type": "code",
   "execution_count": 1,
   "metadata": {},
   "outputs": [],
   "source": [
    "import pandas"
   ]
  },
  {
   "cell_type": "markdown",
   "metadata": {},
   "source": [
    "We import the GiveMeSomeCredit files and create 2 dataframes."
   ]
  },
  {
   "cell_type": "code",
   "execution_count": 2,
   "metadata": {},
   "outputs": [],
   "source": [
    "train_full_df = pandas.read_csv(\"datasets/kaggle-give-me-credit-train.csv\")\n",
    "test_df = pandas.read_csv(\"datasets/kaggle-give-me-credit-test.csv\")\n",
    "\n",
    "dataframes = [train_full_df, test_df]\n"
   ]
  },
  {
   "cell_type": "markdown",
   "metadata": {},
   "source": [
    "We apply some modifications to the file in order to prepare our sources."
   ]
  },
  {
   "cell_type": "code",
   "execution_count": 3,
   "metadata": {},
   "outputs": [],
   "source": [
    "for df in dataframes:\n",
    "    df['MonthlyIncome'] = df['MonthlyIncome'].fillna(0)\n",
    "    "
   ]
  },
  {
   "cell_type": "code",
   "execution_count": 4,
   "metadata": {},
   "outputs": [],
   "source": [
    "for df in dataframes:\n",
    "    for idx, x in enumerate(df['DebtRatio']):    \n",
    "        if int(x) > 5:\n",
    "            df.loc[idx, 'DebtAbsolute'] = int(x)\n",
    "        else:\n",
    "            df.loc[idx, 'DebtAbsolute'] = df.loc[idx, 'DebtRatio'] * df.loc[idx, 'MonthlyIncome']\n",
    "    df['MonthlyBalance'] = df['MonthlyIncome'] - df['DebtAbsolute']\n",
    "    df['BalancePerPerson'] = df['MonthlyBalance']/(df['NumberOfDependents']+1)"
   ]
  },
  {
   "cell_type": "code",
   "execution_count": 5,
   "metadata": {},
   "outputs": [],
   "source": [
    "for df in dataframes:\n",
    "    df.columns.values[0]='Id'"
   ]
  },
  {
   "cell_type": "code",
   "execution_count": 6,
   "metadata": {},
   "outputs": [],
   "source": [
    "test_df = test_df.drop(columns=[\"SeriousDlqin2yrs\"])"
   ]
  },
  {
   "cell_type": "code",
   "execution_count": 7,
   "metadata": {},
   "outputs": [],
   "source": [
    "train_full_df.to_csv(\"datasets/train_full_df.csv\", index=False)\n",
    "test_df.to_csv(\"datasets/test_df.csv\", index=False)"
   ]
  }
 ],
 "metadata": {
  "kernelspec": {
   "display_name": "Python 3",
   "language": "python",
   "name": "python3"
  },
  "language_info": {
   "codemirror_mode": {
    "name": "ipython",
    "version": 3
   },
   "file_extension": ".py",
   "mimetype": "text/x-python",
   "name": "python",
   "nbconvert_exporter": "python",
   "pygments_lexer": "ipython3",
   "version": "3.7.4"
  }
 },
 "nbformat": 4,
 "nbformat_minor": 2
}

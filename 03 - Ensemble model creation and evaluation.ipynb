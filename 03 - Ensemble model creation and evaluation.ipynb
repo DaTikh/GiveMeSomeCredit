{
 "cells": [
  {
   "cell_type": "code",
   "execution_count": 1,
   "metadata": {},
   "outputs": [],
   "source": [
    "from bigml.api import BigML\n",
    "api = BigML(project='project/5d94a426eba31d46690001cd')"
   ]
  },
  {
   "cell_type": "code",
   "execution_count": 2,
   "metadata": {},
   "outputs": [],
   "source": [
    "%store -r train_training_dataset\n",
    "%store -r train_validation_dataset"
   ]
  },
  {
   "cell_type": "code",
   "execution_count": 3,
   "metadata": {},
   "outputs": [],
   "source": [
    "ensemble = api.create_ensemble(train_training_dataset, {\"objective_field\": \"SeriousDlqin2yrs\"})"
   ]
  },
  {
   "cell_type": "code",
   "execution_count": 4,
   "metadata": {},
   "outputs": [
    {
     "data": {
      "text/plain": [
       "'./ensemble_train_prediction.csv'"
      ]
     },
     "execution_count": 4,
     "metadata": {},
     "output_type": "execute_result"
    }
   ],
   "source": [
    "batch_prediction = api.create_batch_prediction(ensemble, train_validation_dataset,\n",
    "                                               {\"all_fields\": True, \"header\": True, \"prediction_name\": \"Prediction\", \"probability\": True, \"probabilities\": True})\n",
    "\n",
    "api.ok(batch_prediction)\n",
    "\n",
    "api.download_batch_prediction(batch_prediction,\n",
    "                              filename='./ensemble_train_prediction.csv')"
   ]
  },
  {
   "cell_type": "code",
   "execution_count": 23,
   "metadata": {},
   "outputs": [
    {
     "name": "stdout",
     "output_type": "stream",
     "text": [
      "Stored 'evaluation' (dict)\n"
     ]
    }
   ],
   "source": [
    "evaluation = api.create_evaluation(ensemble, train_validation_dataset, {\"name\": \"Eval ensemble\", \"operating_point\": {\"threshold\": 0.5, \"positive_class\": \"1\"}})\n",
    "api.ok(evaluation)\n",
    "%store evaluation"
   ]
  },
  {
   "cell_type": "code",
   "execution_count": 24,
   "metadata": {
    "scrolled": true
   },
   "outputs": [
    {
     "name": "stdout",
     "output_type": "stream",
     "text": [
      "       F    P\n",
      "F  27708  235\n",
      "P   1699  358\n"
     ]
    }
   ],
   "source": [
    "import pandas\n",
    "eval = pandas.DataFrame(evaluation[\"object\"][\"result\"][\"model\"][\"confusion_matrix\"], index=[\"F\", \"P\"], columns=[\"F\", \"P\"])\n",
    "print(eval)"
   ]
  },
  {
   "cell_type": "code",
   "execution_count": null,
   "metadata": {},
   "outputs": [],
   "source": []
  }
 ],
 "metadata": {
  "kernelspec": {
   "display_name": "Python 3",
   "language": "python",
   "name": "python3"
  },
  "language_info": {
   "codemirror_mode": {
    "name": "ipython",
    "version": 3
   },
   "file_extension": ".py",
   "mimetype": "text/x-python",
   "name": "python",
   "nbconvert_exporter": "python",
   "pygments_lexer": "ipython3",
   "version": "3.7.4"
  }
 },
 "nbformat": 4,
 "nbformat_minor": 2
}

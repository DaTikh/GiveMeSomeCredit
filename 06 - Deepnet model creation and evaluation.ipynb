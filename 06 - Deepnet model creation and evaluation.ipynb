{
 "cells": [
  {
   "cell_type": "code",
   "execution_count": 1,
   "metadata": {},
   "outputs": [],
   "source": [
    "from bigml.api import BigML\n",
    "api = BigML(project='project/5d94a426eba31d46690001cd')"
   ]
  },
  {
   "cell_type": "markdown",
   "metadata": {},
   "source": [
    "We retrieve the stored python objetcs."
   ]
  },
  {
   "cell_type": "code",
   "execution_count": 2,
   "metadata": {},
   "outputs": [],
   "source": [
    "%store -r train_training_dataset\n",
    "%store -r train_validation_dataset"
   ]
  },
  {
   "cell_type": "markdown",
   "metadata": {},
   "source": [
    "We create an Ensemble model from the *train_training_dataset*."
   ]
  },
  {
   "cell_type": "code",
   "execution_count": 3,
   "metadata": {},
   "outputs": [],
   "source": [
    "deepnet = api.create_deepnet(train_training_dataset, {\"objective_field\": \"SeriousDlqin2yrs\"})"
   ]
  },
  {
   "cell_type": "markdown",
   "metadata": {},
   "source": [
    "We create a batch prediction from this Ensemble onto the *train_validation_dataset*, keeping all fields + **Prediction, Probability, 0 probability** and **1 probability**."
   ]
  },
  {
   "cell_type": "code",
   "execution_count": 4,
   "metadata": {},
   "outputs": [
    {
     "data": {
      "text/plain": [
       "'./deepnet_train_prediction.csv'"
      ]
     },
     "execution_count": 4,
     "metadata": {},
     "output_type": "execute_result"
    }
   ],
   "source": [
    "batch_prediction = api.create_batch_prediction(deepnet, train_validation_dataset,\n",
    "                                               {\"all_fields\": True, \"header\": True, \"prediction_name\": \"Prediction\", \"probability\": True, \"probabilities\": True})\n",
    "\n",
    "api.ok(batch_prediction)\n",
    "\n",
    "api.download_batch_prediction(batch_prediction,\n",
    "                              filename='./deepnet_train_prediction.csv')"
   ]
  },
  {
   "cell_type": "markdown",
   "metadata": {},
   "source": [
    "We create an evaluation from the previous model with the same settings."
   ]
  },
  {
   "cell_type": "code",
   "execution_count": 7,
   "metadata": {},
   "outputs": [
    {
     "name": "stdout",
     "output_type": "stream",
     "text": [
      "Stored 'evaluation_deepnet' (dict)\n"
     ]
    }
   ],
   "source": [
    "evaluation_deepnet = api.create_evaluation(deepnet, train_validation_dataset, {\"name\": \"Eval ensemble\", \"operating_point\": {\"threshold\": 0.5, \"positive_class\": \"1\"}})\n",
    "api.ok(evaluation_deepnet)\n",
    "%store evaluation_deepnet"
   ]
  },
  {
   "cell_type": "markdown",
   "metadata": {},
   "source": [
    "We create a new dataframe with pandas from the previous evaluation object. **The positive class will be 0 though** (can't change it atm for some reason...)."
   ]
  },
  {
   "cell_type": "code",
   "execution_count": 9,
   "metadata": {
    "scrolled": true
   },
   "outputs": [
    {
     "name": "stdout",
     "output_type": "stream",
     "text": [
      "             Actual F  Actual P\n",
      "Predicted F     27255       688\n",
      "Predicted P      1423       634\n"
     ]
    }
   ],
   "source": [
    "import pandas\n",
    "eval = pandas.DataFrame(evaluation_deepnet[\"object\"][\"result\"][\"model\"][\"confusion_matrix\"], index=[\"Predicted F\", \"Predicted P\"], columns=[\"Actual F\", \"Actual P\"])\n",
    "print(eval)"
   ]
  },
  {
   "cell_type": "code",
   "execution_count": null,
   "metadata": {},
   "outputs": [],
   "source": []
  }
 ],
 "metadata": {
  "kernelspec": {
   "display_name": "Python 3",
   "language": "python",
   "name": "python3"
  },
  "language_info": {
   "codemirror_mode": {
    "name": "ipython",
    "version": 3
   },
   "file_extension": ".py",
   "mimetype": "text/x-python",
   "name": "python",
   "nbconvert_exporter": "python",
   "pygments_lexer": "ipython3",
   "version": "3.7.4"
  }
 },
 "nbformat": 4,
 "nbformat_minor": 2
}

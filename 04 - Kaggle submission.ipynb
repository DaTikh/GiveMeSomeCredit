{
 "cells": [
  {
   "cell_type": "code",
   "execution_count": null,
   "metadata": {},
   "outputs": [],
   "source": [
    "import pandas\n",
    "from bigml.api import BigML\n",
    "import kaggle"
   ]
  },
  {
   "cell_type": "code",
   "execution_count": null,
   "metadata": {},
   "outputs": [],
   "source": [
    "%store -r train_full_dataset\n",
    "%store -r kaggle_test_dataset"
   ]
  },
  {
   "cell_type": "code",
   "execution_count": null,
   "metadata": {},
   "outputs": [],
   "source": [
    "ensemble = api.create_ensemble(train_full_dataset, {\"objective_field\": \"SeriousDlqin2yrs\"})\n",
    "\n",
    "batch_prediction = api.create_batch_prediction(ensemble, kaggle_test_dataset,\n",
    "                                               {\"output_fields\": [\"Id\"], \"probabilities\": True})\n",
    "api.ok(batch_prediction)\n"
   ]
  },
  {
   "cell_type": "code",
   "execution_count": null,
   "metadata": {},
   "outputs": [],
   "source": [
    "api.download_batch_prediction(batch_prediction,\n",
    "                              filename='./kaggle_preformat.csv')"
   ]
  },
  {
   "cell_type": "code",
   "execution_count": null,
   "metadata": {},
   "outputs": [],
   "source": [
    "final_submission = pandas.read_csv(\"./kaggle_preformat.csv\")\n",
    "final_submission = final_submission.drop(columns=[\"SeriousDlqin2yrs\", \"0 probability\"])\n",
    "final_submission.columns.values[1] = \"Probability\"\n",
    "\n",
    "final_submission.to_csv(\"./kaggle_submission.csv\", index=False)"
   ]
  },
  {
   "cell_type": "code",
   "execution_count": null,
   "metadata": {},
   "outputs": [],
   "source": [
    "submission_file = \"./kaggle_submission.csv\"\n",
    "kaggle.api.competition_submit(submission_file, \"BigML ensemble\", \"GiveMeSomeCredit\")"
   ]
  }
 ],
 "metadata": {
  "kernelspec": {
   "display_name": "Python 3",
   "language": "python",
   "name": "python3"
  },
  "language_info": {
   "codemirror_mode": {
    "name": "ipython",
    "version": 3
   },
   "file_extension": ".py",
   "mimetype": "text/x-python",
   "name": "python",
   "nbconvert_exporter": "python",
   "pygments_lexer": "ipython3",
   "version": "3.7.4"
  }
 },
 "nbformat": 4,
 "nbformat_minor": 2
}

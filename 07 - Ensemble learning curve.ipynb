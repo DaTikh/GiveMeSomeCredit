{
 "cells": [
  {
   "cell_type": "code",
   "execution_count": 1,
   "metadata": {},
   "outputs": [],
   "source": [
    "from bigml.api import BigML\n",
    "api = BigML(project='project/5d94a426eba31d46690001cd')\n",
    "train_validation_dataset = api.get_dataset(\"dataset/5db2c2fa7811dd7f2d009821\")"
   ]
  },
  {
   "cell_type": "code",
   "execution_count": 13,
   "metadata": {},
   "outputs": [],
   "source": [
    "def ensemble_creation_prediction(dataset, i):\n",
    "    ensemble = api.create_ensemble(dataset, {\"objective_field\": \"SeriousDlqin2yrs\"})\n",
    "    api.ok(ensemble)\n",
    "    batch_prediction = api.create_batch_prediction(ensemble, train_validation_dataset,\n",
    "                {\"all_fields\": True, \"header\": True, \"prediction_name\": \"Prediction\", \"probability\": True, \"probabilities\": True})\n",
    "    api.ok(batch_prediction)\n",
    "    api.download_batch_prediction(batch_prediction, filename=f\"./ensemble_train_prediction_{i}.csv\")\n",
    "    evaluation = api.create_evaluation(ensemble, train_validation_dataset, {\"name\": \"Eval ensemble\", \"operating_point\": {\"threshold\": 0.5, \"positive_class\": \"1\"}})\n",
    "    api.ok(evaluation)\n",
    "    eval = pandas.DataFrame(evaluation[\"object\"][\"result\"][\"model\"][\"confusion_matrix\"], index=[\"Predicted F\", \"Predicted P\"], columns=[\"Actual F\", \"Actual P\"])\n",
    "    print(eval)\n",
    "    i += 1"
   ]
  },
  {
   "cell_type": "code",
   "execution_count": 14,
   "metadata": {},
   "outputs": [
    {
     "name": "stdout",
     "output_type": "stream",
     "text": [
      "             Actual F  Actual P\n",
      "Predicted F     27709       234\n",
      "Predicted P      1796       261\n",
      "             Actual F  Actual P\n",
      "Predicted F     27751       192\n",
      "Predicted P      1769       288\n",
      "             Actual F  Actual P\n",
      "Predicted F     27742       201\n",
      "Predicted P      1777       280\n",
      "             Actual F  Actual P\n",
      "Predicted F     27719       224\n",
      "Predicted P      1727       330\n",
      "             Actual F  Actual P\n",
      "Predicted F     27736       207\n",
      "Predicted P      1747       310\n",
      "             Actual F  Actual P\n",
      "Predicted F     27757       186\n",
      "Predicted P      1759       298\n",
      "             Actual F  Actual P\n",
      "Predicted F     27733       210\n",
      "Predicted P      1731       326\n",
      "             Actual F  Actual P\n",
      "Predicted F     27736       207\n",
      "Predicted P      1696       361\n",
      "             Actual F  Actual P\n",
      "Predicted F     27733       210\n",
      "Predicted P      1723       334\n"
     ]
    }
   ],
   "source": [
    "import csv\n",
    "import pandas\n",
    "\n",
    "with open('datasets_id.csv', 'w', newline='') as f:\n",
    "    i = 0\n",
    "    reader = csv.DictReader(f)\n",
    "    writer = csv.DictReader(f)\n",
    "    for row in reader:\n",
    "        ensemble_creation_prediction(api.get_dataset(row['Id']), i)\n",
    "        writer.writerow\n",
    "        "
   ]
  },
  {
   "cell_type": "code",
   "execution_count": null,
   "metadata": {},
   "outputs": [],
   "source": []
  }
 ],
 "metadata": {
  "kernelspec": {
   "display_name": "Python 3",
   "language": "python",
   "name": "python3"
  },
  "language_info": {
   "codemirror_mode": {
    "name": "ipython",
    "version": 3
   },
   "file_extension": ".py",
   "mimetype": "text/x-python",
   "name": "python",
   "nbconvert_exporter": "python",
   "pygments_lexer": "ipython3",
   "version": "3.7.4"
  }
 },
 "nbformat": 4,
 "nbformat_minor": 2
}
